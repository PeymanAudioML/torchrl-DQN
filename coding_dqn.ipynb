{
 "cells": [
  {
   "cell_type": "markdown",
   "metadata": {},
   "source": [
    "\n",
    "# TorchRL trainer: A DQN example\n",
    "**Author**: [Vincent Moens](https://github.com/vmoens)\n",
    "\n"
   ]
  },
  {
   "cell_type": "markdown",
   "metadata": {},
   "source": [
    "TorchRL provides a generic :class:`~torchrl.trainers.Trainer` class to handle\n",
    "your training loop. The trainer executes a nested loop where the outer loop\n",
    "is the data collection and the inner loop consumes this data or some data\n",
    "retrieved from the replay buffer to train the model.\n",
    "At various points in this training loop, hooks can be attached and executed at\n",
    "given intervals.\n",
    "\n",
    "In this tutorial, we will be using the trainer class to train a DQN algorithm\n",
    "to solve the CartPole task from scratch.\n",
    "\n",
    "Main takeaways:\n",
    "\n",
    "- Building a trainer with its essential components: data collector, loss\n",
    "  module, replay buffer and optimizer.\n",
    "- Adding hooks to a trainer, such as loggers, target network updaters and such.\n",
    "\n",
    "The trainer is fully customisable and offers a large set of functionalities.\n",
    "The tutorial is organised around its construction.\n",
    "We will be detailing how to build each of the components of the library first,\n",
    "and then put the pieces together using the :class:`~torchrl.trainers.Trainer`\n",
    "class.\n",
    "\n",
    "Along the road, we will also focus on some other aspects of the library:\n",
    "\n",
    "- how to build an environment in TorchRL, including transforms (e.g. data\n",
    "  normalization, frame concatenation, resizing and turning to grayscale)\n",
    "  and parallel execution. Unlike what we did in the\n",
    "  `DDPG tutorial <coding_ddpg>`, we\n",
    "  will normalize the pixels and not the state vector.\n",
    "- how to design a :class:`~torchrl.modules.QValueActor` object, i.e. an actor\n",
    "  that estimates the action values and picks up the action with the highest\n",
    "  estimated return;\n",
    "- how to collect data from your environment efficiently and store them\n",
    "  in a replay buffer;\n",
    "- how to use multi-step, a simple preprocessing step for off-policy algorithms;\n",
    "- and finally how to evaluate your model.\n",
    "\n",
    "**Prerequisites**: We encourage you to get familiar with torchrl through the\n",
    "`PPO tutorial <coding_ppo>` first.\n",
    "\n",
    "## DQN\n",
    "\n",
    "DQN ([Deep Q-Learning](https://www.cs.toronto.edu/~vmnih/docs/dqn.pdf)) was\n",
    "the founding work in deep reinforcement learning.\n",
    "\n",
    "On a high level, the algorithm is quite simple: Q-learning consists in\n",
    "learning a table of state-action values in such a way that, when\n",
    "encountering any particular state, we know which action to pick just by\n",
    "searching for the one with the highest value. This simple setting\n",
    "requires the actions and states to be\n",
    "discrete, otherwise a lookup table cannot be built.\n",
    "\n",
    "DQN uses a neural network that encodes a map from the state-action space to\n",
    "a value (scalar) space, which amortizes the cost of storing and exploring all\n",
    "the possible state-action combinations: if a state has not been seen in the\n",
    "past, we can still pass it in conjunction with the various actions available\n",
    "through our neural network and get an interpolated value for each of the\n",
    "actions available.\n",
    "\n",
    "We will solve the classic control problem of the cart pole. From the\n",
    "Gymnasium doc from where this environment is retrieved:\n",
    "\n",
    "| A pole is attached by an un-actuated joint to a cart, which moves along a\n",
    "| frictionless track. The pendulum is placed upright on the cart and the goal\n",
    "| is to balance the pole by applying forces in the left and right direction\n",
    "| on the cart.\n",
    "\n",
    ".. figure:: /_static/img/cartpole_demo.gif\n",
    "   :alt: Cart Pole\n",
    "\n",
    "We do not aim at giving a SOTA implementation of the algorithm, but rather\n",
    "to provide a high-level illustration of TorchRL features in the context\n",
    "of this algorithm.\n",
    "\n"
   ]
  },
  {
   "cell_type": "code",
   "execution_count": 1,
   "metadata": {
    "collapsed": false
   },
   "outputs": [],
   "source": [
    "import os\n",
    "import uuid\n",
    "\n",
    "import torch\n",
    "from torch import nn\n",
    "from torchrl.collectors import MultiaSyncDataCollector, SyncDataCollector\n",
    "from torchrl.data import LazyMemmapStorage, MultiStep, TensorDictReplayBuffer\n",
    "from torchrl.envs import (\n",
    "    EnvCreator,\n",
    "    ExplorationType,\n",
    "    ParallelEnv,\n",
    "    RewardScaling,\n",
    "    StepCounter,\n",
    ")\n",
    "from torchrl.envs.libs.gym import GymEnv\n",
    "from torchrl.envs.transforms import (\n",
    "    CatFrames,\n",
    "    Compose,\n",
    "    GrayScale,\n",
    "    ObservationNorm,\n",
    "    Resize,\n",
    "    ToTensorImage,\n",
    "    TransformedEnv,\n",
    ")\n",
    "from torchrl.modules import DuelingCnnDQNet, EGreedyModule, QValueActor\n",
    "\n",
    "from torchrl.objectives import DQNLoss, SoftUpdate\n",
    "from torchrl.record.loggers.csv import CSVLogger\n",
    "from torchrl.trainers import (\n",
    "    LogReward,\n",
    "    Recorder,\n",
    "    ReplayBufferTrainer,\n",
    "    Trainer,\n",
    "    UpdateWeights,\n",
    ")\n",
    "\n",
    "\n",
    "def is_notebook() -> bool:\n",
    "    try:\n",
    "        shell = get_ipython().__class__.__name__\n",
    "        if shell == \"ZMQInteractiveShell\":\n",
    "            return True  # Jupyter notebook or qtconsole\n",
    "        elif shell == \"TerminalInteractiveShell\":\n",
    "            return False  # Terminal running IPython\n",
    "        else:\n",
    "            return False  # Other type (?)\n",
    "    except NameError:\n",
    "        return False  # Probably standard Python interpreter"
   ]
  },
  {
   "cell_type": "markdown",
   "metadata": {},
   "source": [
    "Let's get started with the various pieces we need for our algorithm:\n",
    "\n",
    "- An environment;\n",
    "- A policy (and related modules that we group under the \"model\" umbrella);\n",
    "- A data collector, which makes the policy play in the environment and\n",
    "  delivers training data;\n",
    "- A replay buffer to store the training data;\n",
    "- A loss module, which computes the objective function to train our policy\n",
    "  to maximise the return;\n",
    "- An optimizer, which performs parameter updates based on our loss.\n",
    "\n",
    "Additional modules include a logger, a recorder (executes the policy in\n",
    "\"eval\" mode) and a target network updater. With all these components into\n",
    "place, it is easy to see how one could misplace or misuse one component in\n",
    "the training script. The trainer is there to orchestrate everything for you!\n",
    "\n",
    "## Building the environment\n",
    "\n",
    "First let's write a helper function that will output an environment. As usual,\n",
    "the \"raw\" environment may be too simple to be used in practice and we'll need\n",
    "some data transformation to expose its output to the policy.\n",
    "\n",
    "We will be using five transforms:\n",
    "\n",
    "- :class:`~torchrl.envs.StepCounter` to count the number of steps in each trajectory;\n",
    "- :class:`~torchrl.envs.transforms.ToTensorImage` will convert a ``[W, H, C]`` uint8\n",
    "  tensor in a floating point tensor in the ``[0, 1]`` space with shape\n",
    "  ``[C, W, H]``;\n",
    "- :class:`~torchrl.envs.transforms.RewardScaling` to reduce the scale of the return;\n",
    "- :class:`~torchrl.envs.transforms.GrayScale` will turn our image into grayscale;\n",
    "- :class:`~torchrl.envs.transforms.Resize` will resize the image in a 64x64 format;\n",
    "- :class:`~torchrl.envs.transforms.CatFrames` will concatenate an arbitrary number of\n",
    "  successive frames (``N=4``) in a single tensor along the channel dimension.\n",
    "  This is useful as a single image does not carry information about the\n",
    "  motion of the cartpole. Some memory about past observations and actions\n",
    "  is needed, either via a recurrent neural network or using a stack of\n",
    "  frames.\n",
    "- :class:`~torchrl.envs.transforms.ObservationNorm` which will normalize our observations\n",
    "  given some custom summary statistics.\n",
    "\n",
    "In practice, our environment builder has two arguments:\n",
    "\n",
    "- ``parallel``: determines whether multiple environments have to be run in\n",
    "  parallel. We stack the transforms after the\n",
    "  :class:`~torchrl.envs.ParallelEnv` to take advantage\n",
    "  of vectorization of the operations on device, although this would\n",
    "  technically work with every single environment attached to its own set of\n",
    "  transforms.\n",
    "- ``obs_norm_sd`` will contain the normalizing constants for\n",
    "  the :class:`~torchrl.envs.ObservationNorm` transform.\n",
    "\n",
    "\n"
   ]
  },
  {
   "cell_type": "code",
   "execution_count": 2,
   "metadata": {
    "collapsed": false
   },
   "outputs": [],
   "source": [
    "def make_env(\n",
    "    parallel=False,\n",
    "    obs_norm_sd=None,\n",
    "    num_workers=1,\n",
    "):\n",
    "    if obs_norm_sd is None:\n",
    "        obs_norm_sd = {\"standard_normal\": True}\n",
    "    if parallel:\n",
    "\n",
    "        def maker():\n",
    "            return GymEnv(\n",
    "                \"CartPole-v1\",\n",
    "                from_pixels=True,\n",
    "                pixels_only=True,\n",
    "                device=device,\n",
    "            )\n",
    "\n",
    "        base_env = ParallelEnv(\n",
    "            num_workers,\n",
    "            EnvCreator(maker),\n",
    "            # Don't create a sub-process if we have only one worker\n",
    "            serial_for_single=True,\n",
    "            mp_start_method=mp_context,\n",
    "        )\n",
    "    else:\n",
    "        base_env = GymEnv(\n",
    "            \"CartPole-v1\",\n",
    "            from_pixels=True,\n",
    "            pixels_only=True,\n",
    "            device=device,\n",
    "        )\n",
    "\n",
    "    env = TransformedEnv(\n",
    "        base_env,\n",
    "        Compose(\n",
    "            StepCounter(),  # to count the steps of each trajectory\n",
    "            ToTensorImage(),\n",
    "            RewardScaling(loc=0.0, scale=0.1),\n",
    "            GrayScale(),\n",
    "            Resize(64, 64),\n",
    "            CatFrames(4, in_keys=[\"pixels\"], dim=-3),\n",
    "            ObservationNorm(in_keys=[\"pixels\"], **obs_norm_sd),\n",
    "        ),\n",
    "    )\n",
    "    return env"
   ]
  },
  {
   "cell_type": "markdown",
   "metadata": {},
   "source": [
    "### Compute normalizing constants\n",
    "\n",
    "To normalize images, we don't want to normalize each pixel independently\n",
    "with a full ``[C, W, H]`` normalizing mask, but with simpler ``[C, 1, 1]``\n",
    "shaped set of normalizing constants (loc and scale parameters).\n",
    "We will be using the ``reduce_dim`` argument\n",
    "of :meth:`~torchrl.envs.ObservationNorm.init_stats` to instruct which\n",
    "dimensions must be reduced, and the ``keep_dims`` parameter to ensure that\n",
    "not all dimensions disappear in the process:\n",
    "\n",
    "\n"
   ]
  },
  {
   "cell_type": "code",
   "execution_count": 3,
   "metadata": {
    "collapsed": false
   },
   "outputs": [],
   "source": [
    "def get_norm_stats():\n",
    "    test_env = make_env()\n",
    "    test_env.transform[-1].init_stats(\n",
    "        num_iter=1000, cat_dim=0, reduce_dim=[-1, -2, -4], keep_dims=(-1, -2)\n",
    "    )\n",
    "    obs_norm_sd = test_env.transform[-1].state_dict()\n",
    "    # let's check that normalizing constants have a size of ``[C, 1, 1]`` where\n",
    "    # ``C=4`` (because of :class:`~torchrl.envs.CatFrames`).\n",
    "    print(\"state dict of the observation norm:\", obs_norm_sd)\n",
    "    test_env.close()\n",
    "    del test_env\n",
    "    return obs_norm_sd"
   ]
  },
  {
   "cell_type": "markdown",
   "metadata": {},
   "source": [
    "## Building the model (Deep Q-network)\n",
    "\n",
    "The following function builds a :class:`~torchrl.modules.DuelingCnnDQNet`\n",
    "object which is a simple CNN followed by a two-layer MLP. The only trick used\n",
    "here is that the action values (i.e. left and right action value) are\n",
    "computed using\n",
    "\n",
    "\\begin{align}\\mathbb{v} = b(obs) + v(obs) - \\mathbb{E}[v(obs)]\\end{align}\n",
    "\n",
    "where $\\mathbb{v}$ is our vector of action values,\n",
    "$b$ is a $\\mathbb{R}^n \\rightarrow 1$ function and $v$ is a\n",
    "$\\mathbb{R}^n \\rightarrow \\mathbb{R}^m$ function, for\n",
    "$n = \\# obs$ and $m = \\# actions$.\n",
    "\n",
    "Our network is wrapped in a :class:`~torchrl.modules.QValueActor`,\n",
    "which will read the state-action\n",
    "values, pick up the one with the maximum value and write all those results\n",
    "in the input :class:`tensordict.TensorDict`.\n",
    "\n",
    "\n"
   ]
  },
  {
   "cell_type": "code",
   "execution_count": 4,
   "metadata": {
    "collapsed": false
   },
   "outputs": [],
   "source": [
    "def make_model(dummy_env):\n",
    "    cnn_kwargs = {\n",
    "        \"num_cells\": [32, 64, 64],\n",
    "        \"kernel_sizes\": [6, 4, 3],\n",
    "        \"strides\": [2, 2, 1],\n",
    "        \"activation_class\": nn.ELU,\n",
    "        # This can be used to reduce the size of the last layer of the CNN\n",
    "        # \"squeeze_output\": True,\n",
    "        # \"aggregator_class\": nn.AdaptiveAvgPool2d,\n",
    "        # \"aggregator_kwargs\": {\"output_size\": (1, 1)},\n",
    "    }\n",
    "    mlp_kwargs = {\n",
    "        \"depth\": 2,\n",
    "        \"num_cells\": [\n",
    "            64,\n",
    "            64,\n",
    "        ],\n",
    "        \"activation_class\": nn.ELU,\n",
    "    }\n",
    "    net = DuelingCnnDQNet(\n",
    "        dummy_env.action_spec.shape[-1], 1, cnn_kwargs, mlp_kwargs\n",
    "    ).to(device)\n",
    "    net.value[-1].bias.data.fill_(init_bias)\n",
    "\n",
    "    actor = QValueActor(net, in_keys=[\"pixels\"], spec=dummy_env.action_spec).to(device)\n",
    "    # init actor: because the model is composed of lazy conv/linear layers,\n",
    "    # we must pass a fake batch of data through it to instantiate them.\n",
    "    tensordict = dummy_env.fake_tensordict()\n",
    "    actor(tensordict)\n",
    "\n",
    "    # we join our actor with an EGreedyModule for data collection\n",
    "    exploration_module = EGreedyModule(\n",
    "        spec=dummy_env.action_spec,\n",
    "        annealing_num_steps=total_frames,\n",
    "        eps_init=eps_greedy_val,\n",
    "        eps_end=eps_greedy_val_env,\n",
    "    )\n",
    "    actor_explore = TensorDictSequential(actor, exploration_module)\n",
    "\n",
    "    return actor, actor_explore"
   ]
  },
  {
   "cell_type": "markdown",
   "metadata": {},
   "source": [
    "## Collecting and storing data\n",
    "\n",
    "### Replay buffers\n",
    "\n",
    "Replay buffers play a central role in off-policy RL algorithms such as DQN.\n",
    "They constitute the dataset we will be sampling from during training.\n",
    "\n",
    "Here, we will use a regular sampling strategy, although a prioritized RB\n",
    "could improve the performance significantly.\n",
    "\n",
    "We place the storage on disk using\n",
    ":class:`~torchrl.data.replay_buffers.storages.LazyMemmapStorage` class. This\n",
    "storage is created in a lazy manner: it will only be instantiated once the\n",
    "first batch of data is passed to it.\n",
    "\n",
    "The only requirement of this storage is that the data passed to it at write\n",
    "time must always have the same shape.\n",
    "\n"
   ]
  },
  {
   "cell_type": "code",
   "execution_count": 5,
   "metadata": {
    "collapsed": false
   },
   "outputs": [],
   "source": [
    "def get_replay_buffer(buffer_size, n_optim, batch_size):\n",
    "    replay_buffer = TensorDictReplayBuffer(\n",
    "        batch_size=batch_size,\n",
    "        storage=LazyMemmapStorage(buffer_size),\n",
    "        prefetch=n_optim,\n",
    "    )\n",
    "    return replay_buffer"
   ]
  },
  {
   "cell_type": "markdown",
   "metadata": {},
   "source": [
    "### Data collector\n",
    "\n",
    "As in `PPO <coding_ppo>` and\n",
    "`DDPG <coding_ddpg>`, we will be using\n",
    "a data collector as a dataloader in the outer loop.\n",
    "\n",
    "We choose the following configuration: we will be running a series of\n",
    "parallel environments synchronously in parallel in different collectors,\n",
    "themselves running in parallel but asynchronously.\n",
    "\n",
    "<div class=\"alert alert-info\"><h4>Note</h4><p>This feature is only available when running the code within the \"spawn\"\n",
    "  start method of python multiprocessing library. If this tutorial is run\n",
    "  directly as a script (thereby using the \"fork\" method) we will be using\n",
    "  a regular :class:`~torchrl.collectors.SyncDataCollector`.</p></div>\n",
    "\n",
    "The advantage of this configuration is that we can balance the amount of\n",
    "compute that is executed in batch with what we want to be executed\n",
    "asynchronously. We encourage the reader to experiment how the collection\n",
    "speed is impacted by modifying the number of collectors (ie the number of\n",
    "environment constructors passed to the collector) and the number of\n",
    "environment executed in parallel in each collector (controlled by the\n",
    "``num_workers`` hyperparameter).\n",
    "\n",
    "Collector's devices are fully parametrizable through the ``device`` (general),\n",
    "``policy_device``, ``env_device`` and ``storing_device`` arguments.\n",
    "The ``storing_device`` argument will modify the\n",
    "location of the data being collected: if the batches that we are gathering\n",
    "have a considerable size, we may want to store them on a different location\n",
    "than the device where the computation is happening. For asynchronous data\n",
    "collectors such as ours, different storing devices mean that the data that\n",
    "we collect won't sit on the same device each time, which is something that\n",
    "out training loop must account for. For simplicity, we set the devices to\n",
    "the same value for all sub-collectors.\n",
    "\n"
   ]
  },
  {
   "cell_type": "code",
   "execution_count": 6,
   "metadata": {
    "collapsed": false
   },
   "outputs": [],
   "source": [
    "def get_collector(\n",
    "    stats,\n",
    "    num_collectors,\n",
    "    actor_explore,\n",
    "    frames_per_batch,\n",
    "    total_frames,\n",
    "    device,\n",
    "):\n",
    "    # We can't use nested child processes with mp_start_method=\"fork\"\n",
    "    if is_fork:\n",
    "        cls = SyncDataCollector\n",
    "        env_arg = make_env(parallel=True, obs_norm_sd=stats, num_workers=num_workers)\n",
    "    else:\n",
    "        cls = MultiaSyncDataCollector\n",
    "        env_arg = [\n",
    "            make_env(parallel=True, obs_norm_sd=stats, num_workers=num_workers)\n",
    "        ] * num_collectors\n",
    "    data_collector = cls(\n",
    "        env_arg,\n",
    "        policy=actor_explore,\n",
    "        frames_per_batch=frames_per_batch,\n",
    "        total_frames=total_frames,\n",
    "        # this is the default behavior: the collector runs in ``\"random\"`` (or explorative) mode\n",
    "        exploration_type=ExplorationType.RANDOM,\n",
    "        # We set the all the devices to be identical. Below is an example of\n",
    "        # heterogeneous devices\n",
    "        device=device,\n",
    "        storing_device=device,\n",
    "        split_trajs=False,\n",
    "        postproc=MultiStep(gamma=gamma, n_steps=5),\n",
    "    )\n",
    "    return data_collector"
   ]
  },
  {
   "cell_type": "markdown",
   "metadata": {},
   "source": [
    "## Loss function\n",
    "\n",
    "Building our loss function is straightforward: we only need to provide\n",
    "the model and a bunch of hyperparameters to the DQNLoss class.\n",
    "\n",
    "### Target parameters\n",
    "\n",
    "Many off-policy RL algorithms use the concept of \"target parameters\" when it\n",
    "comes to estimate the value of the next state or state-action pair.\n",
    "The target parameters are lagged copies of the model parameters. Because\n",
    "their predictions mismatch those of the current model configuration, they\n",
    "help learning by putting a pessimistic bound on the value being estimated.\n",
    "This is a powerful trick (known as \"Double Q-Learning\") that is ubiquitous\n",
    "in similar algorithms.\n",
    "\n",
    "\n"
   ]
  },
  {
   "cell_type": "code",
   "execution_count": 7,
   "metadata": {
    "collapsed": false
   },
   "outputs": [],
   "source": [
    "def get_loss_module(actor, gamma):\n",
    "    loss_module = DQNLoss(actor, delay_value=True)\n",
    "    loss_module.make_value_estimator(gamma=gamma)\n",
    "    target_updater = SoftUpdate(loss_module, eps=0.995)\n",
    "    return loss_module, target_updater"
   ]
  },
  {
   "cell_type": "markdown",
   "metadata": {},
   "source": [
    "## Hyperparameters\n",
    "\n",
    "Let's start with our hyperparameters. The following setting should work well\n",
    "in practice, and the performance of the algorithm should hopefully not be\n",
    "too sensitive to slight variations of these.\n",
    "\n"
   ]
  },
  {
   "cell_type": "code",
   "execution_count": 8,
   "metadata": {
    "collapsed": false
   },
   "outputs": [],
   "source": [
    "import multiprocessing\n",
    "import torch\n",
    "is_fork = multiprocessing.get_start_method() == \"fork\"\n",
    "device = (\n",
    "    torch.device(0)\n",
    "    if torch.cuda.is_available() and not is_fork\n",
    "    else torch.device(\"cpu\")\n",
    ")"
   ]
  },
  {
   "cell_type": "markdown",
   "metadata": {},
   "source": [
    "### Optimizer\n",
    "\n"
   ]
  },
  {
   "cell_type": "code",
   "execution_count": 9,
   "metadata": {
    "collapsed": false
   },
   "outputs": [],
   "source": [
    "# the learning rate of the optimizer\n",
    "lr = 2e-3\n",
    "# weight decay\n",
    "wd = 1e-5\n",
    "# the beta parameters of Adam\n",
    "betas = (0.9, 0.999)\n",
    "# Optimization steps per batch collected (aka UPD or updates per data)\n",
    "n_optim = 8"
   ]
  },
  {
   "cell_type": "markdown",
   "metadata": {},
   "source": [
    "### DQN parameters\n",
    "gamma decay factor\n",
    "\n"
   ]
  },
  {
   "cell_type": "code",
   "execution_count": 10,
   "metadata": {
    "collapsed": false
   },
   "outputs": [],
   "source": [
    "gamma = 0.99"
   ]
  },
  {
   "cell_type": "markdown",
   "metadata": {},
   "source": [
    "Smooth target network update decay parameter.\n",
    "This loosely corresponds to a 1/tau interval with hard target network\n",
    "update\n",
    "\n"
   ]
  },
  {
   "cell_type": "code",
   "execution_count": 11,
   "metadata": {
    "collapsed": false
   },
   "outputs": [],
   "source": [
    "tau = 0.02"
   ]
  },
  {
   "cell_type": "markdown",
   "metadata": {},
   "source": [
    "### Data collection and replay buffer\n",
    "\n",
    "<div class=\"alert alert-info\"><h4>Note</h4><p>Values to be used for proper training have been commented.</p></div>\n",
    "\n",
    "Total frames collected in the environment. In other implementations, the\n",
    "user defines a maximum number of episodes.\n",
    "This is harder to do with our data collectors since they return batches\n",
    "of N collected frames, where N is a constant.\n",
    "However, one can easily get the same restriction on number of episodes by\n",
    "breaking the training loop when a certain number\n",
    "episodes has been collected.\n",
    "\n"
   ]
  },
  {
   "cell_type": "code",
   "execution_count": 12,
   "metadata": {
    "collapsed": false
   },
   "outputs": [],
   "source": [
    "total_frames = 5_000  # 500000"
   ]
  },
  {
   "cell_type": "markdown",
   "metadata": {},
   "source": [
    "Random frames used to initialize the replay buffer.\n",
    "\n"
   ]
  },
  {
   "cell_type": "code",
   "execution_count": 13,
   "metadata": {
    "collapsed": false
   },
   "outputs": [],
   "source": [
    "init_random_frames = 100  # 1000"
   ]
  },
  {
   "cell_type": "markdown",
   "metadata": {},
   "source": [
    "Frames in each batch collected.\n",
    "\n"
   ]
  },
  {
   "cell_type": "code",
   "execution_count": 14,
   "metadata": {
    "collapsed": false
   },
   "outputs": [],
   "source": [
    "frames_per_batch = 32  # 128"
   ]
  },
  {
   "cell_type": "markdown",
   "metadata": {},
   "source": [
    "Frames sampled from the replay buffer at each optimization step\n",
    "\n"
   ]
  },
  {
   "cell_type": "code",
   "execution_count": 15,
   "metadata": {
    "collapsed": false
   },
   "outputs": [],
   "source": [
    "batch_size = 32  # 256"
   ]
  },
  {
   "cell_type": "markdown",
   "metadata": {},
   "source": [
    "Size of the replay buffer in terms of frames\n",
    "\n"
   ]
  },
  {
   "cell_type": "code",
   "execution_count": 16,
   "metadata": {
    "collapsed": false
   },
   "outputs": [],
   "source": [
    "buffer_size = min(total_frames, 100000)"
   ]
  },
  {
   "cell_type": "markdown",
   "metadata": {},
   "source": [
    "Number of environments run in parallel in each data collector\n",
    "\n"
   ]
  },
  {
   "cell_type": "code",
   "execution_count": 17,
   "metadata": {
    "collapsed": false
   },
   "outputs": [],
   "source": [
    "num_workers = 2  # 8\n",
    "num_collectors = 2  # 4"
   ]
  },
  {
   "cell_type": "markdown",
   "metadata": {},
   "source": [
    "### Environment and exploration\n",
    "\n",
    "We set the initial and final value of the epsilon factor in Epsilon-greedy\n",
    "exploration.\n",
    "Since our policy is deterministic, exploration is crucial: without it, the\n",
    "only source of randomness would be the environment reset.\n",
    "\n"
   ]
  },
  {
   "cell_type": "code",
   "execution_count": 18,
   "metadata": {
    "collapsed": false
   },
   "outputs": [],
   "source": [
    "eps_greedy_val = 0.1\n",
    "eps_greedy_val_env = 0.005"
   ]
  },
  {
   "cell_type": "markdown",
   "metadata": {},
   "source": [
    "To speed up learning, we set the bias of the last layer of our value network\n",
    "to a predefined value (this is not mandatory)\n",
    "\n"
   ]
  },
  {
   "cell_type": "code",
   "execution_count": 19,
   "metadata": {
    "collapsed": false
   },
   "outputs": [],
   "source": [
    "init_bias = 2.0"
   ]
  },
  {
   "cell_type": "markdown",
   "metadata": {},
   "source": [
    "<div class=\"alert alert-info\"><h4>Note</h4><p>For fast rendering of the tutorial ``total_frames`` hyperparameter\n",
    "  was set to a very low number. To get a reasonable performance, use a greater\n",
    "  value e.g. 500000</p></div>\n",
    "\n",
    "\n"
   ]
  },
  {
   "cell_type": "markdown",
   "metadata": {},
   "source": [
    "## Building a Trainer\n",
    "\n",
    "TorchRL's :class:`~torchrl.trainers.Trainer` class constructor takes the\n",
    "following keyword-only arguments:\n",
    "\n",
    "- ``collector``\n",
    "- ``loss_module``\n",
    "- ``optimizer``\n",
    "- ``logger``: A logger can be\n",
    "- ``total_frames``: this parameter defines the lifespan of the trainer.\n",
    "- ``frame_skip``: when a frame-skip is used, the collector must be made\n",
    "  aware of it in order to accurately count the number of frames\n",
    "  collected etc. Making the trainer aware of this parameter is not\n",
    "  mandatory but helps to have a fairer comparison between settings where\n",
    "  the total number of frames (budget) is fixed but the frame-skip is\n",
    "  variable.\n",
    "\n"
   ]
  },
  {
   "cell_type": "code",
   "execution_count": 21,
   "metadata": {},
   "outputs": [
    {
     "ename": "ModuleNotFoundError",
     "evalue": "No module named 'gymnasium'",
     "output_type": "error",
     "traceback": [
      "\u001b[0;31m---------------------------------------------------------------------------\u001b[0m",
      "\u001b[0;31mModuleNotFoundError\u001b[0m                       Traceback (most recent call last)",
      "Cell \u001b[0;32mIn[21], line 1\u001b[0m\n\u001b[0;32m----> 1\u001b[0m \u001b[38;5;28;01mimport\u001b[39;00m \u001b[38;5;21;01mgymnasium\u001b[39;00m\u001b[38;5;21;01m.\u001b[39;00m\u001b[38;5;21;01mwrappers\u001b[39;00m\n\u001b[1;32m      2\u001b[0m \u001b[38;5;28mprint\u001b[39m(\u001b[38;5;28mdir\u001b[39m(gymnasium\u001b[38;5;241m.\u001b[39mwrappers))\n",
      "\u001b[0;31mModuleNotFoundError\u001b[0m: No module named 'gymnasium'"
     ]
    }
   ],
   "source": [
    "import gymnasium.wrappers\n",
    "print(dir(gymnasium.wrappers))\n"
   ]
  },
  {
   "cell_type": "code",
   "execution_count": null,
   "metadata": {},
   "outputs": [
    {
     "ename": "ModuleNotFoundError",
     "evalue": "No module named 'gymnasium.wrappers.compatibility'",
     "output_type": "error",
     "traceback": [
      "\u001b[0;31m---------------------------------------------------------------------------\u001b[0m",
      "\u001b[0;31mModuleNotFoundError\u001b[0m                       Traceback (most recent call last)",
      "Cell \u001b[0;32mIn[21], line 2\u001b[0m\n\u001b[1;32m      1\u001b[0m \u001b[38;5;28;01mfrom\u001b[39;00m \u001b[38;5;21;01mtensordict\u001b[39;00m\u001b[38;5;21;01m.\u001b[39;00m\u001b[38;5;21;01mnn\u001b[39;00m \u001b[38;5;28;01mimport\u001b[39;00m TensorDictSequential\n\u001b[0;32m----> 2\u001b[0m stats \u001b[38;5;241m=\u001b[39m \u001b[43mget_norm_stats\u001b[49m\u001b[43m(\u001b[49m\u001b[43m)\u001b[49m\n",
      "Cell \u001b[0;32mIn[3], line 2\u001b[0m, in \u001b[0;36mget_norm_stats\u001b[0;34m()\u001b[0m\n\u001b[1;32m      1\u001b[0m \u001b[38;5;28;01mdef\u001b[39;00m \u001b[38;5;21mget_norm_stats\u001b[39m():\n\u001b[0;32m----> 2\u001b[0m     test_env \u001b[38;5;241m=\u001b[39m \u001b[43mmake_env\u001b[49m\u001b[43m(\u001b[49m\u001b[43m)\u001b[49m\n\u001b[1;32m      3\u001b[0m     test_env\u001b[38;5;241m.\u001b[39mtransform[\u001b[38;5;241m-\u001b[39m\u001b[38;5;241m1\u001b[39m]\u001b[38;5;241m.\u001b[39minit_stats(\n\u001b[1;32m      4\u001b[0m         num_iter\u001b[38;5;241m=\u001b[39m\u001b[38;5;241m1000\u001b[39m, cat_dim\u001b[38;5;241m=\u001b[39m\u001b[38;5;241m0\u001b[39m, reduce_dim\u001b[38;5;241m=\u001b[39m[\u001b[38;5;241m-\u001b[39m\u001b[38;5;241m1\u001b[39m, \u001b[38;5;241m-\u001b[39m\u001b[38;5;241m2\u001b[39m, \u001b[38;5;241m-\u001b[39m\u001b[38;5;241m4\u001b[39m], keep_dims\u001b[38;5;241m=\u001b[39m(\u001b[38;5;241m-\u001b[39m\u001b[38;5;241m1\u001b[39m, \u001b[38;5;241m-\u001b[39m\u001b[38;5;241m2\u001b[39m)\n\u001b[1;32m      5\u001b[0m     )\n\u001b[1;32m      6\u001b[0m     obs_norm_sd \u001b[38;5;241m=\u001b[39m test_env\u001b[38;5;241m.\u001b[39mtransform[\u001b[38;5;241m-\u001b[39m\u001b[38;5;241m1\u001b[39m]\u001b[38;5;241m.\u001b[39mstate_dict()\n",
      "Cell \u001b[0;32mIn[2], line 26\u001b[0m, in \u001b[0;36mmake_env\u001b[0;34m(parallel, obs_norm_sd, num_workers)\u001b[0m\n\u001b[1;32m     18\u001b[0m     base_env \u001b[38;5;241m=\u001b[39m ParallelEnv(\n\u001b[1;32m     19\u001b[0m         num_workers,\n\u001b[1;32m     20\u001b[0m         EnvCreator(maker),\n\u001b[0;32m   (...)\u001b[0m\n\u001b[1;32m     23\u001b[0m         mp_start_method\u001b[38;5;241m=\u001b[39mmp_context,\n\u001b[1;32m     24\u001b[0m     )\n\u001b[1;32m     25\u001b[0m \u001b[38;5;28;01melse\u001b[39;00m:\n\u001b[0;32m---> 26\u001b[0m     base_env \u001b[38;5;241m=\u001b[39m \u001b[43mGymEnv\u001b[49m\u001b[43m(\u001b[49m\n\u001b[1;32m     27\u001b[0m \u001b[43m        \u001b[49m\u001b[38;5;124;43m\"\u001b[39;49m\u001b[38;5;124;43mCartPole-v1\u001b[39;49m\u001b[38;5;124;43m\"\u001b[39;49m\u001b[43m,\u001b[49m\n\u001b[1;32m     28\u001b[0m \u001b[43m        \u001b[49m\u001b[43mfrom_pixels\u001b[49m\u001b[38;5;241;43m=\u001b[39;49m\u001b[38;5;28;43;01mTrue\u001b[39;49;00m\u001b[43m,\u001b[49m\n\u001b[1;32m     29\u001b[0m \u001b[43m        \u001b[49m\u001b[43mpixels_only\u001b[49m\u001b[38;5;241;43m=\u001b[39;49m\u001b[38;5;28;43;01mTrue\u001b[39;49;00m\u001b[43m,\u001b[49m\n\u001b[1;32m     30\u001b[0m \u001b[43m        \u001b[49m\u001b[43mdevice\u001b[49m\u001b[38;5;241;43m=\u001b[39;49m\u001b[43mdevice\u001b[49m\u001b[43m,\u001b[49m\n\u001b[1;32m     31\u001b[0m \u001b[43m    \u001b[49m\u001b[43m)\u001b[49m\n\u001b[1;32m     33\u001b[0m env \u001b[38;5;241m=\u001b[39m TransformedEnv(\n\u001b[1;32m     34\u001b[0m     base_env,\n\u001b[1;32m     35\u001b[0m     Compose(\n\u001b[0;32m   (...)\u001b[0m\n\u001b[1;32m     43\u001b[0m     ),\n\u001b[1;32m     44\u001b[0m )\n\u001b[1;32m     45\u001b[0m \u001b[38;5;28;01mreturn\u001b[39;00m env\n",
      "File \u001b[0;32m/opt/anaconda3/envs/torch_rl_env/lib/python3.11/site-packages/torchrl/envs/libs/gym.py:543\u001b[0m, in \u001b[0;36m_AsyncMeta.__call__\u001b[0;34m(cls, *args, **kwargs)\u001b[0m\n\u001b[1;32m    542\u001b[0m \u001b[38;5;28;01mdef\u001b[39;00m \u001b[38;5;21m__call__\u001b[39m(\u001b[38;5;28mcls\u001b[39m, \u001b[38;5;241m*\u001b[39margs, \u001b[38;5;241m*\u001b[39m\u001b[38;5;241m*\u001b[39mkwargs):\n\u001b[0;32m--> 543\u001b[0m     instance: GymWrapper \u001b[38;5;241m=\u001b[39m \u001b[38;5;28;43msuper\u001b[39;49m\u001b[43m(\u001b[49m\u001b[43m)\u001b[49m\u001b[38;5;241;43m.\u001b[39;49m\u001b[38;5;21;43m__call__\u001b[39;49m\u001b[43m(\u001b[49m\u001b[38;5;241;43m*\u001b[39;49m\u001b[43margs\u001b[49m\u001b[43m,\u001b[49m\u001b[43m \u001b[49m\u001b[38;5;241;43m*\u001b[39;49m\u001b[38;5;241;43m*\u001b[39;49m\u001b[43mkwargs\u001b[49m\u001b[43m)\u001b[49m\n\u001b[1;32m    545\u001b[0m     \u001b[38;5;66;03m# before gym 0.22, there was no final_observation\u001b[39;00m\n\u001b[1;32m    546\u001b[0m     \u001b[38;5;28;01mif\u001b[39;00m instance\u001b[38;5;241m.\u001b[39m_is_batched:\n",
      "File \u001b[0;32m/opt/anaconda3/envs/torch_rl_env/lib/python3.11/site-packages/torchrl/envs/common.py:158\u001b[0m, in \u001b[0;36m_EnvPostInit.__call__\u001b[0;34m(cls, *args, **kwargs)\u001b[0m\n\u001b[1;32m    157\u001b[0m \u001b[38;5;28;01mdef\u001b[39;00m \u001b[38;5;21m__call__\u001b[39m(\u001b[38;5;28mcls\u001b[39m, \u001b[38;5;241m*\u001b[39margs, \u001b[38;5;241m*\u001b[39m\u001b[38;5;241m*\u001b[39mkwargs):\n\u001b[0;32m--> 158\u001b[0m     instance: EnvBase \u001b[38;5;241m=\u001b[39m \u001b[38;5;28;43msuper\u001b[39;49m\u001b[43m(\u001b[49m\u001b[43m)\u001b[49m\u001b[38;5;241;43m.\u001b[39;49m\u001b[38;5;21;43m__call__\u001b[39;49m\u001b[43m(\u001b[49m\u001b[38;5;241;43m*\u001b[39;49m\u001b[43margs\u001b[49m\u001b[43m,\u001b[49m\u001b[43m \u001b[49m\u001b[38;5;241;43m*\u001b[39;49m\u001b[38;5;241;43m*\u001b[39;49m\u001b[43mkwargs\u001b[49m\u001b[43m)\u001b[49m\n\u001b[1;32m    159\u001b[0m     \u001b[38;5;66;03m# we create the done spec by adding a done/terminated entry if one is missing\u001b[39;00m\n\u001b[1;32m    160\u001b[0m     instance\u001b[38;5;241m.\u001b[39m_create_done_specs()\n",
      "File \u001b[0;32m/opt/anaconda3/envs/torch_rl_env/lib/python3.11/site-packages/torchrl/envs/libs/gym.py:1253\u001b[0m, in \u001b[0;36mGymEnv.__init__\u001b[0;34m(self, env_name, **kwargs)\u001b[0m\n\u001b[1;32m   1251\u001b[0m kwargs[\u001b[38;5;124m\"\u001b[39m\u001b[38;5;124menv_name\u001b[39m\u001b[38;5;124m\"\u001b[39m] \u001b[38;5;241m=\u001b[39m env_name\n\u001b[1;32m   1252\u001b[0m \u001b[38;5;28mself\u001b[39m\u001b[38;5;241m.\u001b[39m_set_gym_args(kwargs)\n\u001b[0;32m-> 1253\u001b[0m \u001b[38;5;28;43msuper\u001b[39;49m\u001b[43m(\u001b[49m\u001b[43m)\u001b[49m\u001b[38;5;241;43m.\u001b[39;49m\u001b[38;5;21;43m__init__\u001b[39;49m\u001b[43m(\u001b[49m\u001b[38;5;241;43m*\u001b[39;49m\u001b[38;5;241;43m*\u001b[39;49m\u001b[43mkwargs\u001b[49m\u001b[43m)\u001b[49m\n",
      "File \u001b[0;32m/opt/anaconda3/envs/torch_rl_env/lib/python3.11/site-packages/torchrl/envs/libs/gym.py:731\u001b[0m, in \u001b[0;36mGymWrapper.__init__\u001b[0;34m(self, env, categorical_action_encoding, **kwargs)\u001b[0m\n\u001b[1;32m    729\u001b[0m         \u001b[38;5;28msuper\u001b[39m()\u001b[38;5;241m.\u001b[39m\u001b[38;5;21m__init__\u001b[39m(\u001b[38;5;241m*\u001b[39m\u001b[38;5;241m*\u001b[39mkwargs)\n\u001b[1;32m    730\u001b[0m \u001b[38;5;28;01melse\u001b[39;00m:\n\u001b[0;32m--> 731\u001b[0m     \u001b[38;5;28;43msuper\u001b[39;49m\u001b[43m(\u001b[49m\u001b[43m)\u001b[49m\u001b[38;5;241;43m.\u001b[39;49m\u001b[38;5;21;43m__init__\u001b[39;49m\u001b[43m(\u001b[49m\u001b[38;5;241;43m*\u001b[39;49m\u001b[38;5;241;43m*\u001b[39;49m\u001b[43mkwargs\u001b[49m\u001b[43m)\u001b[49m\n\u001b[1;32m    732\u001b[0m \u001b[38;5;28mself\u001b[39m\u001b[38;5;241m.\u001b[39m_post_init()\n",
      "File \u001b[0;32m/opt/anaconda3/envs/torch_rl_env/lib/python3.11/site-packages/torchrl/envs/common.py:2819\u001b[0m, in \u001b[0;36m_EnvWrapper.__init__\u001b[0;34m(self, dtype, device, batch_size, allow_done_after_reset, *args, **kwargs)\u001b[0m\n\u001b[1;32m   2817\u001b[0m \u001b[38;5;28mself\u001b[39m\u001b[38;5;241m.\u001b[39m_constructor_kwargs \u001b[38;5;241m=\u001b[39m kwargs\n\u001b[1;32m   2818\u001b[0m \u001b[38;5;28mself\u001b[39m\u001b[38;5;241m.\u001b[39m_check_kwargs(kwargs)\n\u001b[0;32m-> 2819\u001b[0m \u001b[38;5;28mself\u001b[39m\u001b[38;5;241m.\u001b[39m_env \u001b[38;5;241m=\u001b[39m \u001b[38;5;28;43mself\u001b[39;49m\u001b[38;5;241;43m.\u001b[39;49m\u001b[43m_build_env\u001b[49m\u001b[43m(\u001b[49m\u001b[38;5;241;43m*\u001b[39;49m\u001b[38;5;241;43m*\u001b[39;49m\u001b[43mkwargs\u001b[49m\u001b[43m)\u001b[49m  \u001b[38;5;66;03m# writes the self._env attribute\u001b[39;00m\n\u001b[1;32m   2820\u001b[0m \u001b[38;5;28mself\u001b[39m\u001b[38;5;241m.\u001b[39m_make_specs(\u001b[38;5;28mself\u001b[39m\u001b[38;5;241m.\u001b[39m_env)  \u001b[38;5;66;03m# writes the self._env attribute\u001b[39;00m\n\u001b[1;32m   2821\u001b[0m \u001b[38;5;28mself\u001b[39m\u001b[38;5;241m.\u001b[39mis_closed \u001b[38;5;241m=\u001b[39m \u001b[38;5;28;01mFalse\u001b[39;00m\n",
      "File \u001b[0;32m/opt/anaconda3/envs/torch_rl_env/lib/python3.11/site-packages/torchrl/envs/libs/gym.py:1321\u001b[0m, in \u001b[0;36mGymEnv._build_env\u001b[0;34m(self, env_name, **kwargs)\u001b[0m\n\u001b[1;32m   1319\u001b[0m         \u001b[38;5;28;01melse\u001b[39;00m:\n\u001b[1;32m   1320\u001b[0m             \u001b[38;5;28;01mraise\u001b[39;00m err\n\u001b[0;32m-> 1321\u001b[0m env \u001b[38;5;241m=\u001b[39m \u001b[38;5;28;43msuper\u001b[39;49m\u001b[43m(\u001b[49m\u001b[43m)\u001b[49m\u001b[38;5;241;43m.\u001b[39;49m\u001b[43m_build_env\u001b[49m\u001b[43m(\u001b[49m\u001b[43menv\u001b[49m\u001b[43m,\u001b[49m\u001b[43m \u001b[49m\u001b[43mpixels_only\u001b[49m\u001b[38;5;241;43m=\u001b[39;49m\u001b[43mpixels_only\u001b[49m\u001b[43m,\u001b[49m\u001b[43m \u001b[49m\u001b[43mfrom_pixels\u001b[49m\u001b[38;5;241;43m=\u001b[39;49m\u001b[43mfrom_pixels\u001b[49m\u001b[43m)\u001b[49m\n\u001b[1;32m   1322\u001b[0m \u001b[38;5;28;01mif\u001b[39;00m num_envs \u001b[38;5;241m>\u001b[39m \u001b[38;5;241m0\u001b[39m:\n\u001b[1;32m   1323\u001b[0m     \u001b[38;5;28;01mtry\u001b[39;00m:\n",
      "File \u001b[0;32m/opt/anaconda3/envs/torch_rl_env/lib/python3.11/site-packages/torchrl/envs/libs/gym.py:809\u001b[0m, in \u001b[0;36mGymWrapper._build_env\u001b[0;34m(self, env, from_pixels, pixels_only)\u001b[0m\n\u001b[1;32m    807\u001b[0m     \u001b[38;5;28;01mexcept\u001b[39;00m \u001b[38;5;167;01mModuleNotFoundError\u001b[39;00m:\n\u001b[1;32m    808\u001b[0m         \u001b[38;5;28;01mpass\u001b[39;00m\n\u001b[0;32m--> 809\u001b[0m     env \u001b[38;5;241m=\u001b[39m \u001b[38;5;28;43mself\u001b[39;49m\u001b[38;5;241;43m.\u001b[39;49m\u001b[43m_build_gym_env\u001b[49m\u001b[43m(\u001b[49m\u001b[43menv\u001b[49m\u001b[43m,\u001b[49m\u001b[43m \u001b[49m\u001b[43mpixels_only\u001b[49m\u001b[43m)\u001b[49m\n\u001b[1;32m    810\u001b[0m \u001b[38;5;28;01mreturn\u001b[39;00m env\n",
      "File \u001b[0;32m/opt/anaconda3/envs/torch_rl_env/lib/python3.11/site-packages/torchrl/_utils.py:382\u001b[0m, in \u001b[0;36mimplement_for.__call__.<locals>._lazy_call_fn\u001b[0;34m(*args, **kwargs)\u001b[0m\n\u001b[1;32m    377\u001b[0m \u001b[38;5;129m@wraps\u001b[39m(fn)\n\u001b[1;32m    378\u001b[0m \u001b[38;5;28;01mdef\u001b[39;00m \u001b[38;5;21m_lazy_call_fn\u001b[39m(\u001b[38;5;241m*\u001b[39margs, \u001b[38;5;241m*\u001b[39m\u001b[38;5;241m*\u001b[39mkwargs):\n\u001b[1;32m    379\u001b[0m     \u001b[38;5;66;03m# first time we call the function, we also do the replacement.\u001b[39;00m\n\u001b[1;32m    380\u001b[0m     \u001b[38;5;66;03m# This will cause the imports to occur only during the first call to fn\u001b[39;00m\n\u001b[0;32m--> 382\u001b[0m     result \u001b[38;5;241m=\u001b[39m \u001b[38;5;28;43mself\u001b[39;49m\u001b[38;5;241;43m.\u001b[39;49m\u001b[43m_delazify\u001b[49m\u001b[43m(\u001b[49m\u001b[38;5;28;43mself\u001b[39;49m\u001b[38;5;241;43m.\u001b[39;49m\u001b[43mfunc_name\u001b[49m\u001b[43m)\u001b[49m\u001b[43m(\u001b[49m\u001b[38;5;241;43m*\u001b[39;49m\u001b[43margs\u001b[49m\u001b[43m,\u001b[49m\u001b[43m \u001b[49m\u001b[38;5;241;43m*\u001b[39;49m\u001b[38;5;241;43m*\u001b[39;49m\u001b[43mkwargs\u001b[49m\u001b[43m)\u001b[49m\n\u001b[1;32m    383\u001b[0m     \u001b[38;5;28;01mreturn\u001b[39;00m result\n",
      "File \u001b[0;32m/opt/anaconda3/envs/torch_rl_env/lib/python3.11/site-packages/torchrl/envs/libs/gym.py:859\u001b[0m, in \u001b[0;36mGymWrapper._build_gym_env\u001b[0;34m(self, env, pixels_only)\u001b[0m\n\u001b[1;32m    857\u001b[0m \u001b[38;5;129m@implement_for\u001b[39m(\u001b[38;5;124m\"\u001b[39m\u001b[38;5;124mgymnasium\u001b[39m\u001b[38;5;124m\"\u001b[39m)\n\u001b[1;32m    858\u001b[0m \u001b[38;5;28;01mdef\u001b[39;00m \u001b[38;5;21m_build_gym_env\u001b[39m(\u001b[38;5;28mself\u001b[39m, env, pixels_only):  \u001b[38;5;66;03m# noqa: F811\u001b[39;00m\n\u001b[0;32m--> 859\u001b[0m     compatibility \u001b[38;5;241m=\u001b[39m \u001b[43mgym_backend\u001b[49m\u001b[43m(\u001b[49m\u001b[38;5;124;43m\"\u001b[39;49m\u001b[38;5;124;43mwrappers.compatibility\u001b[39;49m\u001b[38;5;124;43m\"\u001b[39;49m\u001b[43m)\u001b[49m\n\u001b[1;32m    860\u001b[0m     pixel_observation \u001b[38;5;241m=\u001b[39m gym_backend(\u001b[38;5;124m\"\u001b[39m\u001b[38;5;124mwrappers.pixel_observation\u001b[39m\u001b[38;5;124m\"\u001b[39m)\n\u001b[1;32m    862\u001b[0m     \u001b[38;5;28;01mif\u001b[39;00m env\u001b[38;5;241m.\u001b[39mrender_mode:\n",
      "File \u001b[0;32m/opt/anaconda3/envs/torch_rl_env/lib/python3.11/site-packages/torchrl/envs/libs/gym.py:204\u001b[0m, in \u001b[0;36mgym_backend\u001b[0;34m(submodule)\u001b[0m\n\u001b[1;32m    202\u001b[0m     \u001b[38;5;28;01mif\u001b[39;00m \u001b[38;5;129;01mnot\u001b[39;00m submodule\u001b[38;5;241m.\u001b[39mstartswith(\u001b[38;5;124m\"\u001b[39m\u001b[38;5;124m.\u001b[39m\u001b[38;5;124m\"\u001b[39m):\n\u001b[1;32m    203\u001b[0m         submodule \u001b[38;5;241m=\u001b[39m \u001b[38;5;124m\"\u001b[39m\u001b[38;5;124m.\u001b[39m\u001b[38;5;124m\"\u001b[39m \u001b[38;5;241m+\u001b[39m submodule\n\u001b[0;32m--> 204\u001b[0m         submodule \u001b[38;5;241m=\u001b[39m \u001b[43mimportlib\u001b[49m\u001b[38;5;241;43m.\u001b[39;49m\u001b[43mimport_module\u001b[49m\u001b[43m(\u001b[49m\u001b[43msubmodule\u001b[49m\u001b[43m,\u001b[49m\u001b[43m \u001b[49m\u001b[43mpackage\u001b[49m\u001b[38;5;241;43m=\u001b[39;49m\u001b[43mDEFAULT_GYM\u001b[49m\u001b[38;5;241;43m.\u001b[39;49m\u001b[38;5;18;43m__name__\u001b[39;49m\u001b[43m)\u001b[49m\n\u001b[1;32m    205\u001b[0m         \u001b[38;5;28;01mreturn\u001b[39;00m submodule\n\u001b[1;32m    206\u001b[0m \u001b[38;5;28;01mreturn\u001b[39;00m DEFAULT_GYM\n",
      "File \u001b[0;32m/opt/anaconda3/envs/torch_rl_env/lib/python3.11/importlib/__init__.py:126\u001b[0m, in \u001b[0;36mimport_module\u001b[0;34m(name, package)\u001b[0m\n\u001b[1;32m    124\u001b[0m             \u001b[38;5;28;01mbreak\u001b[39;00m\n\u001b[1;32m    125\u001b[0m         level \u001b[38;5;241m+\u001b[39m\u001b[38;5;241m=\u001b[39m \u001b[38;5;241m1\u001b[39m\n\u001b[0;32m--> 126\u001b[0m \u001b[38;5;28;01mreturn\u001b[39;00m \u001b[43m_bootstrap\u001b[49m\u001b[38;5;241;43m.\u001b[39;49m\u001b[43m_gcd_import\u001b[49m\u001b[43m(\u001b[49m\u001b[43mname\u001b[49m\u001b[43m[\u001b[49m\u001b[43mlevel\u001b[49m\u001b[43m:\u001b[49m\u001b[43m]\u001b[49m\u001b[43m,\u001b[49m\u001b[43m \u001b[49m\u001b[43mpackage\u001b[49m\u001b[43m,\u001b[49m\u001b[43m \u001b[49m\u001b[43mlevel\u001b[49m\u001b[43m)\u001b[49m\n",
      "File \u001b[0;32m<frozen importlib._bootstrap>:1204\u001b[0m, in \u001b[0;36m_gcd_import\u001b[0;34m(name, package, level)\u001b[0m\n",
      "File \u001b[0;32m<frozen importlib._bootstrap>:1176\u001b[0m, in \u001b[0;36m_find_and_load\u001b[0;34m(name, import_)\u001b[0m\n",
      "File \u001b[0;32m<frozen importlib._bootstrap>:1140\u001b[0m, in \u001b[0;36m_find_and_load_unlocked\u001b[0;34m(name, import_)\u001b[0m\n",
      "\u001b[0;31mModuleNotFoundError\u001b[0m: No module named 'gymnasium.wrappers.compatibility'"
     ]
    }
   ],
   "source": [
    "from tensordict.nn import TensorDictSequential\n",
    "import gym\n",
    "print(dir(gym.wrappers))\n",
    "\n",
    "stats = get_norm_stats()"
   ]
  },
  {
   "cell_type": "code",
   "execution_count": null,
   "metadata": {
    "collapsed": false
   },
   "outputs": [
    {
     "ename": "ModuleNotFoundError",
     "evalue": "No module named 'gymnasium.wrappers.compatibility'",
     "output_type": "error",
     "traceback": [
      "\u001b[0;31m---------------------------------------------------------------------------\u001b[0m",
      "\u001b[0;31mModuleNotFoundError\u001b[0m                       Traceback (most recent call last)",
      "Cell \u001b[0;32mIn[21], line 3\u001b[0m\n\u001b[1;32m      1\u001b[0m \u001b[38;5;28;01mfrom\u001b[39;00m \u001b[38;5;21;01mtensordict\u001b[39;00m\u001b[38;5;21;01m.\u001b[39;00m\u001b[38;5;21;01mnn\u001b[39;00m \u001b[38;5;28;01mimport\u001b[39;00m TensorDictSequential\n\u001b[0;32m----> 3\u001b[0m stats \u001b[38;5;241m=\u001b[39m \u001b[43mget_norm_stats\u001b[49m\u001b[43m(\u001b[49m\u001b[43m)\u001b[49m\n\u001b[1;32m      4\u001b[0m test_env \u001b[38;5;241m=\u001b[39m make_env(parallel\u001b[38;5;241m=\u001b[39m\u001b[38;5;28;01mFalse\u001b[39;00m, obs_norm_sd\u001b[38;5;241m=\u001b[39mstats)\n\u001b[1;32m      5\u001b[0m \u001b[38;5;66;03m# Get model\u001b[39;00m\n",
      "Cell \u001b[0;32mIn[4], line 2\u001b[0m, in \u001b[0;36mget_norm_stats\u001b[0;34m()\u001b[0m\n\u001b[1;32m      1\u001b[0m \u001b[38;5;28;01mdef\u001b[39;00m \u001b[38;5;21mget_norm_stats\u001b[39m():\n\u001b[0;32m----> 2\u001b[0m     test_env \u001b[38;5;241m=\u001b[39m \u001b[43mmake_env\u001b[49m\u001b[43m(\u001b[49m\u001b[43m)\u001b[49m\n\u001b[1;32m      3\u001b[0m     test_env\u001b[38;5;241m.\u001b[39mtransform[\u001b[38;5;241m-\u001b[39m\u001b[38;5;241m1\u001b[39m]\u001b[38;5;241m.\u001b[39minit_stats(\n\u001b[1;32m      4\u001b[0m         num_iter\u001b[38;5;241m=\u001b[39m\u001b[38;5;241m1000\u001b[39m, cat_dim\u001b[38;5;241m=\u001b[39m\u001b[38;5;241m0\u001b[39m, reduce_dim\u001b[38;5;241m=\u001b[39m[\u001b[38;5;241m-\u001b[39m\u001b[38;5;241m1\u001b[39m, \u001b[38;5;241m-\u001b[39m\u001b[38;5;241m2\u001b[39m, \u001b[38;5;241m-\u001b[39m\u001b[38;5;241m4\u001b[39m], keep_dims\u001b[38;5;241m=\u001b[39m(\u001b[38;5;241m-\u001b[39m\u001b[38;5;241m1\u001b[39m, \u001b[38;5;241m-\u001b[39m\u001b[38;5;241m2\u001b[39m)\n\u001b[1;32m      5\u001b[0m     )\n\u001b[1;32m      6\u001b[0m     obs_norm_sd \u001b[38;5;241m=\u001b[39m test_env\u001b[38;5;241m.\u001b[39mtransform[\u001b[38;5;241m-\u001b[39m\u001b[38;5;241m1\u001b[39m]\u001b[38;5;241m.\u001b[39mstate_dict()\n",
      "Cell \u001b[0;32mIn[3], line 26\u001b[0m, in \u001b[0;36mmake_env\u001b[0;34m(parallel, obs_norm_sd, num_workers)\u001b[0m\n\u001b[1;32m     18\u001b[0m     base_env \u001b[38;5;241m=\u001b[39m ParallelEnv(\n\u001b[1;32m     19\u001b[0m         num_workers,\n\u001b[1;32m     20\u001b[0m         EnvCreator(maker),\n\u001b[0;32m   (...)\u001b[0m\n\u001b[1;32m     23\u001b[0m         mp_start_method\u001b[38;5;241m=\u001b[39mmp_context,\n\u001b[1;32m     24\u001b[0m     )\n\u001b[1;32m     25\u001b[0m \u001b[38;5;28;01melse\u001b[39;00m:\n\u001b[0;32m---> 26\u001b[0m     base_env \u001b[38;5;241m=\u001b[39m \u001b[43mGymEnv\u001b[49m\u001b[43m(\u001b[49m\n\u001b[1;32m     27\u001b[0m \u001b[43m        \u001b[49m\u001b[38;5;124;43m\"\u001b[39;49m\u001b[38;5;124;43mCartPole-v1\u001b[39;49m\u001b[38;5;124;43m\"\u001b[39;49m\u001b[43m,\u001b[49m\n\u001b[1;32m     28\u001b[0m \u001b[43m        \u001b[49m\u001b[43mfrom_pixels\u001b[49m\u001b[38;5;241;43m=\u001b[39;49m\u001b[38;5;28;43;01mTrue\u001b[39;49;00m\u001b[43m,\u001b[49m\n\u001b[1;32m     29\u001b[0m \u001b[43m        \u001b[49m\u001b[43mpixels_only\u001b[49m\u001b[38;5;241;43m=\u001b[39;49m\u001b[38;5;28;43;01mTrue\u001b[39;49;00m\u001b[43m,\u001b[49m\n\u001b[1;32m     30\u001b[0m \u001b[43m        \u001b[49m\u001b[43mdevice\u001b[49m\u001b[38;5;241;43m=\u001b[39;49m\u001b[43mdevice\u001b[49m\u001b[43m,\u001b[49m\n\u001b[1;32m     31\u001b[0m \u001b[43m    \u001b[49m\u001b[43m)\u001b[49m\n\u001b[1;32m     33\u001b[0m env \u001b[38;5;241m=\u001b[39m TransformedEnv(\n\u001b[1;32m     34\u001b[0m     base_env,\n\u001b[1;32m     35\u001b[0m     Compose(\n\u001b[0;32m   (...)\u001b[0m\n\u001b[1;32m     43\u001b[0m     ),\n\u001b[1;32m     44\u001b[0m )\n\u001b[1;32m     45\u001b[0m \u001b[38;5;28;01mreturn\u001b[39;00m env\n",
      "File \u001b[0;32m/opt/anaconda3/envs/torch_rl_env/lib/python3.11/site-packages/torchrl/envs/libs/gym.py:543\u001b[0m, in \u001b[0;36m_AsyncMeta.__call__\u001b[0;34m(cls, *args, **kwargs)\u001b[0m\n\u001b[1;32m    542\u001b[0m \u001b[38;5;28;01mdef\u001b[39;00m \u001b[38;5;21m__call__\u001b[39m(\u001b[38;5;28mcls\u001b[39m, \u001b[38;5;241m*\u001b[39margs, \u001b[38;5;241m*\u001b[39m\u001b[38;5;241m*\u001b[39mkwargs):\n\u001b[0;32m--> 543\u001b[0m     instance: GymWrapper \u001b[38;5;241m=\u001b[39m \u001b[38;5;28;43msuper\u001b[39;49m\u001b[43m(\u001b[49m\u001b[43m)\u001b[49m\u001b[38;5;241;43m.\u001b[39;49m\u001b[38;5;21;43m__call__\u001b[39;49m\u001b[43m(\u001b[49m\u001b[38;5;241;43m*\u001b[39;49m\u001b[43margs\u001b[49m\u001b[43m,\u001b[49m\u001b[43m \u001b[49m\u001b[38;5;241;43m*\u001b[39;49m\u001b[38;5;241;43m*\u001b[39;49m\u001b[43mkwargs\u001b[49m\u001b[43m)\u001b[49m\n\u001b[1;32m    545\u001b[0m     \u001b[38;5;66;03m# before gym 0.22, there was no final_observation\u001b[39;00m\n\u001b[1;32m    546\u001b[0m     \u001b[38;5;28;01mif\u001b[39;00m instance\u001b[38;5;241m.\u001b[39m_is_batched:\n",
      "File \u001b[0;32m/opt/anaconda3/envs/torch_rl_env/lib/python3.11/site-packages/torchrl/envs/common.py:158\u001b[0m, in \u001b[0;36m_EnvPostInit.__call__\u001b[0;34m(cls, *args, **kwargs)\u001b[0m\n\u001b[1;32m    157\u001b[0m \u001b[38;5;28;01mdef\u001b[39;00m \u001b[38;5;21m__call__\u001b[39m(\u001b[38;5;28mcls\u001b[39m, \u001b[38;5;241m*\u001b[39margs, \u001b[38;5;241m*\u001b[39m\u001b[38;5;241m*\u001b[39mkwargs):\n\u001b[0;32m--> 158\u001b[0m     instance: EnvBase \u001b[38;5;241m=\u001b[39m \u001b[38;5;28;43msuper\u001b[39;49m\u001b[43m(\u001b[49m\u001b[43m)\u001b[49m\u001b[38;5;241;43m.\u001b[39;49m\u001b[38;5;21;43m__call__\u001b[39;49m\u001b[43m(\u001b[49m\u001b[38;5;241;43m*\u001b[39;49m\u001b[43margs\u001b[49m\u001b[43m,\u001b[49m\u001b[43m \u001b[49m\u001b[38;5;241;43m*\u001b[39;49m\u001b[38;5;241;43m*\u001b[39;49m\u001b[43mkwargs\u001b[49m\u001b[43m)\u001b[49m\n\u001b[1;32m    159\u001b[0m     \u001b[38;5;66;03m# we create the done spec by adding a done/terminated entry if one is missing\u001b[39;00m\n\u001b[1;32m    160\u001b[0m     instance\u001b[38;5;241m.\u001b[39m_create_done_specs()\n",
      "File \u001b[0;32m/opt/anaconda3/envs/torch_rl_env/lib/python3.11/site-packages/torchrl/envs/libs/gym.py:1253\u001b[0m, in \u001b[0;36mGymEnv.__init__\u001b[0;34m(self, env_name, **kwargs)\u001b[0m\n\u001b[1;32m   1251\u001b[0m kwargs[\u001b[38;5;124m\"\u001b[39m\u001b[38;5;124menv_name\u001b[39m\u001b[38;5;124m\"\u001b[39m] \u001b[38;5;241m=\u001b[39m env_name\n\u001b[1;32m   1252\u001b[0m \u001b[38;5;28mself\u001b[39m\u001b[38;5;241m.\u001b[39m_set_gym_args(kwargs)\n\u001b[0;32m-> 1253\u001b[0m \u001b[38;5;28;43msuper\u001b[39;49m\u001b[43m(\u001b[49m\u001b[43m)\u001b[49m\u001b[38;5;241;43m.\u001b[39;49m\u001b[38;5;21;43m__init__\u001b[39;49m\u001b[43m(\u001b[49m\u001b[38;5;241;43m*\u001b[39;49m\u001b[38;5;241;43m*\u001b[39;49m\u001b[43mkwargs\u001b[49m\u001b[43m)\u001b[49m\n",
      "File \u001b[0;32m/opt/anaconda3/envs/torch_rl_env/lib/python3.11/site-packages/torchrl/envs/libs/gym.py:731\u001b[0m, in \u001b[0;36mGymWrapper.__init__\u001b[0;34m(self, env, categorical_action_encoding, **kwargs)\u001b[0m\n\u001b[1;32m    729\u001b[0m         \u001b[38;5;28msuper\u001b[39m()\u001b[38;5;241m.\u001b[39m\u001b[38;5;21m__init__\u001b[39m(\u001b[38;5;241m*\u001b[39m\u001b[38;5;241m*\u001b[39mkwargs)\n\u001b[1;32m    730\u001b[0m \u001b[38;5;28;01melse\u001b[39;00m:\n\u001b[0;32m--> 731\u001b[0m     \u001b[38;5;28;43msuper\u001b[39;49m\u001b[43m(\u001b[49m\u001b[43m)\u001b[49m\u001b[38;5;241;43m.\u001b[39;49m\u001b[38;5;21;43m__init__\u001b[39;49m\u001b[43m(\u001b[49m\u001b[38;5;241;43m*\u001b[39;49m\u001b[38;5;241;43m*\u001b[39;49m\u001b[43mkwargs\u001b[49m\u001b[43m)\u001b[49m\n\u001b[1;32m    732\u001b[0m \u001b[38;5;28mself\u001b[39m\u001b[38;5;241m.\u001b[39m_post_init()\n",
      "File \u001b[0;32m/opt/anaconda3/envs/torch_rl_env/lib/python3.11/site-packages/torchrl/envs/common.py:2819\u001b[0m, in \u001b[0;36m_EnvWrapper.__init__\u001b[0;34m(self, dtype, device, batch_size, allow_done_after_reset, *args, **kwargs)\u001b[0m\n\u001b[1;32m   2817\u001b[0m \u001b[38;5;28mself\u001b[39m\u001b[38;5;241m.\u001b[39m_constructor_kwargs \u001b[38;5;241m=\u001b[39m kwargs\n\u001b[1;32m   2818\u001b[0m \u001b[38;5;28mself\u001b[39m\u001b[38;5;241m.\u001b[39m_check_kwargs(kwargs)\n\u001b[0;32m-> 2819\u001b[0m \u001b[38;5;28mself\u001b[39m\u001b[38;5;241m.\u001b[39m_env \u001b[38;5;241m=\u001b[39m \u001b[38;5;28;43mself\u001b[39;49m\u001b[38;5;241;43m.\u001b[39;49m\u001b[43m_build_env\u001b[49m\u001b[43m(\u001b[49m\u001b[38;5;241;43m*\u001b[39;49m\u001b[38;5;241;43m*\u001b[39;49m\u001b[43mkwargs\u001b[49m\u001b[43m)\u001b[49m  \u001b[38;5;66;03m# writes the self._env attribute\u001b[39;00m\n\u001b[1;32m   2820\u001b[0m \u001b[38;5;28mself\u001b[39m\u001b[38;5;241m.\u001b[39m_make_specs(\u001b[38;5;28mself\u001b[39m\u001b[38;5;241m.\u001b[39m_env)  \u001b[38;5;66;03m# writes the self._env attribute\u001b[39;00m\n\u001b[1;32m   2821\u001b[0m \u001b[38;5;28mself\u001b[39m\u001b[38;5;241m.\u001b[39mis_closed \u001b[38;5;241m=\u001b[39m \u001b[38;5;28;01mFalse\u001b[39;00m\n",
      "File \u001b[0;32m/opt/anaconda3/envs/torch_rl_env/lib/python3.11/site-packages/torchrl/envs/libs/gym.py:1321\u001b[0m, in \u001b[0;36mGymEnv._build_env\u001b[0;34m(self, env_name, **kwargs)\u001b[0m\n\u001b[1;32m   1319\u001b[0m         \u001b[38;5;28;01melse\u001b[39;00m:\n\u001b[1;32m   1320\u001b[0m             \u001b[38;5;28;01mraise\u001b[39;00m err\n\u001b[0;32m-> 1321\u001b[0m env \u001b[38;5;241m=\u001b[39m \u001b[38;5;28;43msuper\u001b[39;49m\u001b[43m(\u001b[49m\u001b[43m)\u001b[49m\u001b[38;5;241;43m.\u001b[39;49m\u001b[43m_build_env\u001b[49m\u001b[43m(\u001b[49m\u001b[43menv\u001b[49m\u001b[43m,\u001b[49m\u001b[43m \u001b[49m\u001b[43mpixels_only\u001b[49m\u001b[38;5;241;43m=\u001b[39;49m\u001b[43mpixels_only\u001b[49m\u001b[43m,\u001b[49m\u001b[43m \u001b[49m\u001b[43mfrom_pixels\u001b[49m\u001b[38;5;241;43m=\u001b[39;49m\u001b[43mfrom_pixels\u001b[49m\u001b[43m)\u001b[49m\n\u001b[1;32m   1322\u001b[0m \u001b[38;5;28;01mif\u001b[39;00m num_envs \u001b[38;5;241m>\u001b[39m \u001b[38;5;241m0\u001b[39m:\n\u001b[1;32m   1323\u001b[0m     \u001b[38;5;28;01mtry\u001b[39;00m:\n",
      "File \u001b[0;32m/opt/anaconda3/envs/torch_rl_env/lib/python3.11/site-packages/torchrl/envs/libs/gym.py:809\u001b[0m, in \u001b[0;36mGymWrapper._build_env\u001b[0;34m(self, env, from_pixels, pixels_only)\u001b[0m\n\u001b[1;32m    807\u001b[0m     \u001b[38;5;28;01mexcept\u001b[39;00m \u001b[38;5;167;01mModuleNotFoundError\u001b[39;00m:\n\u001b[1;32m    808\u001b[0m         \u001b[38;5;28;01mpass\u001b[39;00m\n\u001b[0;32m--> 809\u001b[0m     env \u001b[38;5;241m=\u001b[39m \u001b[38;5;28;43mself\u001b[39;49m\u001b[38;5;241;43m.\u001b[39;49m\u001b[43m_build_gym_env\u001b[49m\u001b[43m(\u001b[49m\u001b[43menv\u001b[49m\u001b[43m,\u001b[49m\u001b[43m \u001b[49m\u001b[43mpixels_only\u001b[49m\u001b[43m)\u001b[49m\n\u001b[1;32m    810\u001b[0m \u001b[38;5;28;01mreturn\u001b[39;00m env\n",
      "File \u001b[0;32m/opt/anaconda3/envs/torch_rl_env/lib/python3.11/site-packages/torchrl/_utils.py:382\u001b[0m, in \u001b[0;36mimplement_for.__call__.<locals>._lazy_call_fn\u001b[0;34m(*args, **kwargs)\u001b[0m\n\u001b[1;32m    377\u001b[0m \u001b[38;5;129m@wraps\u001b[39m(fn)\n\u001b[1;32m    378\u001b[0m \u001b[38;5;28;01mdef\u001b[39;00m \u001b[38;5;21m_lazy_call_fn\u001b[39m(\u001b[38;5;241m*\u001b[39margs, \u001b[38;5;241m*\u001b[39m\u001b[38;5;241m*\u001b[39mkwargs):\n\u001b[1;32m    379\u001b[0m     \u001b[38;5;66;03m# first time we call the function, we also do the replacement.\u001b[39;00m\n\u001b[1;32m    380\u001b[0m     \u001b[38;5;66;03m# This will cause the imports to occur only during the first call to fn\u001b[39;00m\n\u001b[0;32m--> 382\u001b[0m     result \u001b[38;5;241m=\u001b[39m \u001b[38;5;28;43mself\u001b[39;49m\u001b[38;5;241;43m.\u001b[39;49m\u001b[43m_delazify\u001b[49m\u001b[43m(\u001b[49m\u001b[38;5;28;43mself\u001b[39;49m\u001b[38;5;241;43m.\u001b[39;49m\u001b[43mfunc_name\u001b[49m\u001b[43m)\u001b[49m\u001b[43m(\u001b[49m\u001b[38;5;241;43m*\u001b[39;49m\u001b[43margs\u001b[49m\u001b[43m,\u001b[49m\u001b[43m \u001b[49m\u001b[38;5;241;43m*\u001b[39;49m\u001b[38;5;241;43m*\u001b[39;49m\u001b[43mkwargs\u001b[49m\u001b[43m)\u001b[49m\n\u001b[1;32m    383\u001b[0m     \u001b[38;5;28;01mreturn\u001b[39;00m result\n",
      "File \u001b[0;32m/opt/anaconda3/envs/torch_rl_env/lib/python3.11/site-packages/torchrl/envs/libs/gym.py:859\u001b[0m, in \u001b[0;36mGymWrapper._build_gym_env\u001b[0;34m(self, env, pixels_only)\u001b[0m\n\u001b[1;32m    857\u001b[0m \u001b[38;5;129m@implement_for\u001b[39m(\u001b[38;5;124m\"\u001b[39m\u001b[38;5;124mgymnasium\u001b[39m\u001b[38;5;124m\"\u001b[39m)\n\u001b[1;32m    858\u001b[0m \u001b[38;5;28;01mdef\u001b[39;00m \u001b[38;5;21m_build_gym_env\u001b[39m(\u001b[38;5;28mself\u001b[39m, env, pixels_only):  \u001b[38;5;66;03m# noqa: F811\u001b[39;00m\n\u001b[0;32m--> 859\u001b[0m     compatibility \u001b[38;5;241m=\u001b[39m \u001b[43mgym_backend\u001b[49m\u001b[43m(\u001b[49m\u001b[38;5;124;43m\"\u001b[39;49m\u001b[38;5;124;43mwrappers.compatibility\u001b[39;49m\u001b[38;5;124;43m\"\u001b[39;49m\u001b[43m)\u001b[49m\n\u001b[1;32m    860\u001b[0m     pixel_observation \u001b[38;5;241m=\u001b[39m gym_backend(\u001b[38;5;124m\"\u001b[39m\u001b[38;5;124mwrappers.pixel_observation\u001b[39m\u001b[38;5;124m\"\u001b[39m)\n\u001b[1;32m    862\u001b[0m     \u001b[38;5;28;01mif\u001b[39;00m env\u001b[38;5;241m.\u001b[39mrender_mode:\n",
      "File \u001b[0;32m/opt/anaconda3/envs/torch_rl_env/lib/python3.11/site-packages/torchrl/envs/libs/gym.py:204\u001b[0m, in \u001b[0;36mgym_backend\u001b[0;34m(submodule)\u001b[0m\n\u001b[1;32m    202\u001b[0m     \u001b[38;5;28;01mif\u001b[39;00m \u001b[38;5;129;01mnot\u001b[39;00m submodule\u001b[38;5;241m.\u001b[39mstartswith(\u001b[38;5;124m\"\u001b[39m\u001b[38;5;124m.\u001b[39m\u001b[38;5;124m\"\u001b[39m):\n\u001b[1;32m    203\u001b[0m         submodule \u001b[38;5;241m=\u001b[39m \u001b[38;5;124m\"\u001b[39m\u001b[38;5;124m.\u001b[39m\u001b[38;5;124m\"\u001b[39m \u001b[38;5;241m+\u001b[39m submodule\n\u001b[0;32m--> 204\u001b[0m         submodule \u001b[38;5;241m=\u001b[39m \u001b[43mimportlib\u001b[49m\u001b[38;5;241;43m.\u001b[39;49m\u001b[43mimport_module\u001b[49m\u001b[43m(\u001b[49m\u001b[43msubmodule\u001b[49m\u001b[43m,\u001b[49m\u001b[43m \u001b[49m\u001b[43mpackage\u001b[49m\u001b[38;5;241;43m=\u001b[39;49m\u001b[43mDEFAULT_GYM\u001b[49m\u001b[38;5;241;43m.\u001b[39;49m\u001b[38;5;18;43m__name__\u001b[39;49m\u001b[43m)\u001b[49m\n\u001b[1;32m    205\u001b[0m         \u001b[38;5;28;01mreturn\u001b[39;00m submodule\n\u001b[1;32m    206\u001b[0m \u001b[38;5;28;01mreturn\u001b[39;00m DEFAULT_GYM\n",
      "File \u001b[0;32m/opt/anaconda3/envs/torch_rl_env/lib/python3.11/importlib/__init__.py:126\u001b[0m, in \u001b[0;36mimport_module\u001b[0;34m(name, package)\u001b[0m\n\u001b[1;32m    124\u001b[0m             \u001b[38;5;28;01mbreak\u001b[39;00m\n\u001b[1;32m    125\u001b[0m         level \u001b[38;5;241m+\u001b[39m\u001b[38;5;241m=\u001b[39m \u001b[38;5;241m1\u001b[39m\n\u001b[0;32m--> 126\u001b[0m \u001b[38;5;28;01mreturn\u001b[39;00m \u001b[43m_bootstrap\u001b[49m\u001b[38;5;241;43m.\u001b[39;49m\u001b[43m_gcd_import\u001b[49m\u001b[43m(\u001b[49m\u001b[43mname\u001b[49m\u001b[43m[\u001b[49m\u001b[43mlevel\u001b[49m\u001b[43m:\u001b[49m\u001b[43m]\u001b[49m\u001b[43m,\u001b[49m\u001b[43m \u001b[49m\u001b[43mpackage\u001b[49m\u001b[43m,\u001b[49m\u001b[43m \u001b[49m\u001b[43mlevel\u001b[49m\u001b[43m)\u001b[49m\n",
      "File \u001b[0;32m<frozen importlib._bootstrap>:1204\u001b[0m, in \u001b[0;36m_gcd_import\u001b[0;34m(name, package, level)\u001b[0m\n",
      "File \u001b[0;32m<frozen importlib._bootstrap>:1176\u001b[0m, in \u001b[0;36m_find_and_load\u001b[0;34m(name, import_)\u001b[0m\n",
      "File \u001b[0;32m<frozen importlib._bootstrap>:1140\u001b[0m, in \u001b[0;36m_find_and_load_unlocked\u001b[0;34m(name, import_)\u001b[0m\n",
      "\u001b[0;31mModuleNotFoundError\u001b[0m: No module named 'gymnasium.wrappers.compatibility'"
     ]
    }
   ],
   "source": [
    "from tensordict.nn import TensorDictSequential\n",
    "\n",
    "stats = get_norm_stats()\n",
    "test_env = make_env(parallel=False, obs_norm_sd=stats)\n",
    "# Get model\n",
    "actor, actor_explore = make_model(test_env)\n",
    "# loss_module, target_net_updater = get_loss_module(actor, gamma)\n",
    "\n",
    "# collector = get_collector(\n",
    "#     stats=stats,\n",
    "#     num_collectors=num_collectors,\n",
    "#     actor_explore=actor_explore,\n",
    "#     frames_per_batch=frames_per_batch,\n",
    "#     total_frames=total_frames,\n",
    "#     device=device,\n",
    "# )\n",
    "# optimizer = torch.optim.Adam(\n",
    "#     loss_module.parameters(), lr=lr, weight_decay=wd, betas=betas\n",
    "# )\n",
    "# exp_name = f\"dqn_exp_{uuid.uuid1()}\"\n",
    "# tmpdir = tempfile.TemporaryDirectory()\n",
    "# logger = CSVLogger(exp_name=exp_name, log_dir=tmpdir.name)\n",
    "# warnings.warn(f\"log dir: {logger.experiment.log_dir}\")"
   ]
  },
  {
   "cell_type": "markdown",
   "metadata": {},
   "source": [
    "We can control how often the scalars should be logged. Here we set this\n",
    "to a low value as our training loop is short:\n",
    "\n"
   ]
  },
  {
   "cell_type": "code",
   "execution_count": null,
   "metadata": {
    "collapsed": false
   },
   "outputs": [],
   "source": [
    "log_interval = 500\n",
    "\n",
    "trainer = Trainer(\n",
    "    collector=collector,\n",
    "    total_frames=total_frames,\n",
    "    frame_skip=1,\n",
    "    loss_module=loss_module,\n",
    "    optimizer=optimizer,\n",
    "    logger=logger,\n",
    "    optim_steps_per_batch=n_optim,\n",
    "    log_interval=log_interval,\n",
    ")"
   ]
  },
  {
   "cell_type": "markdown",
   "metadata": {},
   "source": [
    "### Registering hooks\n",
    "\n",
    "Registering hooks can be achieved in two separate ways:\n",
    "\n",
    "- If the hook has it, the :meth:`~torchrl.trainers.TrainerHookBase.register`\n",
    "  method is the first choice. One just needs to provide the trainer as input\n",
    "  and the hook will be registered with a default name at a default location.\n",
    "  For some hooks, the registration can be quite complex: :class:`~torchrl.trainers.ReplayBufferTrainer`\n",
    "  requires 3 hooks (``extend``, ``sample`` and ``update_priority``) which\n",
    "  can be cumbersome to implement.\n",
    "\n"
   ]
  },
  {
   "cell_type": "code",
   "execution_count": null,
   "metadata": {
    "collapsed": false
   },
   "outputs": [],
   "source": [
    "buffer_hook = ReplayBufferTrainer(\n",
    "    get_replay_buffer(buffer_size, n_optim, batch_size=batch_size),\n",
    "    flatten_tensordicts=True,\n",
    ")\n",
    "buffer_hook.register(trainer)\n",
    "weight_updater = UpdateWeights(collector, update_weights_interval=1)\n",
    "weight_updater.register(trainer)\n",
    "recorder = Recorder(\n",
    "    record_interval=100,  # log every 100 optimization steps\n",
    "    record_frames=1000,  # maximum number of frames in the record\n",
    "    frame_skip=1,\n",
    "    policy_exploration=actor_explore,\n",
    "    environment=test_env,\n",
    "    exploration_type=ExplorationType.DETERMINISTIC,\n",
    "    log_keys=[(\"next\", \"reward\")],\n",
    "    out_keys={(\"next\", \"reward\"): \"rewards\"},\n",
    "    log_pbar=True,\n",
    ")\n",
    "recorder.register(trainer)"
   ]
  },
  {
   "cell_type": "markdown",
   "metadata": {},
   "source": [
    "The exploration module epsilon factor is also annealed:\n",
    "\n",
    "\n"
   ]
  },
  {
   "cell_type": "code",
   "execution_count": null,
   "metadata": {
    "collapsed": false
   },
   "outputs": [],
   "source": [
    "trainer.register_op(\"post_steps\", actor_explore[1].step, frames=frames_per_batch)"
   ]
  },
  {
   "cell_type": "markdown",
   "metadata": {},
   "source": [
    "- Any callable (including :class:`~torchrl.trainers.TrainerHookBase`\n",
    "  subclasses) can be registered using :meth:`~torchrl.trainers.Trainer.register_op`.\n",
    "  In this case, a location must be explicitly passed (). This method gives\n",
    "  more control over the location of the hook but it also requires more\n",
    "  understanding of the Trainer mechanism.\n",
    "  Check the `trainer documentation <ref_trainers>`\n",
    "  for a detailed description of the trainer hooks.\n",
    "\n",
    "\n"
   ]
  },
  {
   "cell_type": "code",
   "execution_count": null,
   "metadata": {
    "collapsed": false
   },
   "outputs": [],
   "source": [
    "trainer.register_op(\"post_optim\", target_net_updater.step)"
   ]
  },
  {
   "cell_type": "markdown",
   "metadata": {},
   "source": [
    "We can log the training rewards too. Note that this is of limited interest\n",
    "with CartPole, as rewards are always 1. The discounted sum of rewards is\n",
    "maximised not by getting higher rewards but by keeping the cart-pole alive\n",
    "for longer.\n",
    "This will be reflected by the `total_rewards` value displayed in the\n",
    "progress bar.\n",
    "\n",
    "\n"
   ]
  },
  {
   "cell_type": "code",
   "execution_count": null,
   "metadata": {
    "collapsed": false
   },
   "outputs": [],
   "source": [
    "log_reward = LogReward(log_pbar=True)\n",
    "log_reward.register(trainer)"
   ]
  },
  {
   "cell_type": "markdown",
   "metadata": {},
   "source": [
    "<div class=\"alert alert-info\"><h4>Note</h4><p>It is possible to link multiple optimizers to the trainer if needed.\n",
    "  In this case, each optimizer will be tied to a field in the loss\n",
    "  dictionary.\n",
    "  Check the :class:`~torchrl.trainers.OptimizerHook` to learn more.</p></div>\n",
    "\n",
    "Here we are, ready to train our algorithm! A simple call to\n",
    "``trainer.train()`` and we'll be getting our results logged in.\n",
    "\n",
    "\n"
   ]
  },
  {
   "cell_type": "code",
   "execution_count": null,
   "metadata": {
    "collapsed": false
   },
   "outputs": [],
   "source": [
    "trainer.train()"
   ]
  },
  {
   "cell_type": "markdown",
   "metadata": {},
   "source": [
    "We can now quickly check the CSVs with the results.\n",
    "\n"
   ]
  },
  {
   "cell_type": "code",
   "execution_count": null,
   "metadata": {
    "collapsed": false
   },
   "outputs": [],
   "source": [
    "def print_csv_files_in_folder(folder_path):\n",
    "    \"\"\"\n",
    "    Find all CSV files in a folder and prints the first 10 lines of each file.\n",
    "\n",
    "    Args:\n",
    "        folder_path (str): The relative path to the folder.\n",
    "\n",
    "    \"\"\"\n",
    "    csv_files = []\n",
    "    output_str = \"\"\n",
    "    for dirpath, _, filenames in os.walk(folder_path):\n",
    "        for file in filenames:\n",
    "            if file.endswith(\".csv\"):\n",
    "                csv_files.append(os.path.join(dirpath, file))\n",
    "    for csv_file in csv_files:\n",
    "        output_str += f\"File: {csv_file}\\n\"\n",
    "        with open(csv_file, \"r\") as f:\n",
    "            for i, line in enumerate(f):\n",
    "                if i == 10:\n",
    "                    break\n",
    "                output_str += line.strip() + \"\\n\"\n",
    "        output_str += \"\\n\"\n",
    "    print(output_str)\n",
    "\n",
    "\n",
    "print_csv_files_in_folder(logger.experiment.log_dir)"
   ]
  },
  {
   "cell_type": "markdown",
   "metadata": {},
   "source": [
    "## Conclusion and possible improvements\n",
    "\n",
    "In this tutorial we have learned:\n",
    "\n",
    "- How to write a Trainer, including building its components and registering\n",
    "  them in the trainer;\n",
    "- How to code a DQN algorithm, including how to create a policy that picks\n",
    "  up the action with the highest value with\n",
    "  :class:`~torchrl.modules.QValueNetwork`;\n",
    "- How to build a multiprocessed data collector;\n",
    "\n",
    "Possible improvements to this tutorial could include:\n",
    "\n",
    "- A prioritized replay buffer could also be used. This will give a\n",
    "  higher priority to samples that have the worst value accuracy.\n",
    "  Learn more on the\n",
    "  `replay buffer section <ref_buffers>`\n",
    "  of the documentation.\n",
    "- A distributional loss (see :class:`~torchrl.objectives.DistributionalDQNLoss`\n",
    "  for more information).\n",
    "- More fancy exploration techniques, such as :class:`~torchrl.modules.NoisyLinear` layers and such.\n",
    "\n"
   ]
  }
 ],
 "metadata": {
  "kernelspec": {
   "display_name": "Python 3",
   "language": "python",
   "name": "python3"
  },
  "language_info": {
   "codemirror_mode": {
    "name": "ipython",
    "version": 3
   },
   "file_extension": ".py",
   "mimetype": "text/x-python",
   "name": "python",
   "nbconvert_exporter": "python",
   "pygments_lexer": "ipython3",
   "version": "3.10.15"
  }
 },
 "nbformat": 4,
 "nbformat_minor": 0
}
